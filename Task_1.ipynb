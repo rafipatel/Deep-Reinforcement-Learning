{
 "cells": [
  {
   "cell_type": "markdown",
   "metadata": {},
   "source": [
    "# ROOMBA NAVIGATION"
   ]
  },
  {
   "attachments": {
    "image.png": {
     "image/png": "[encoded data removed]"
    }
   },
   "cell_type": "markdown",
   "metadata": {},
   "source": [
    "![image.png](attachment:image.png)"
   ]
  },
  {
   "cell_type": "code",
   "execution_count": 2,
   "metadata": {},
   "outputs": [],
   "source": [
    "import numpy as np"
   ]
  },
  {
   "cell_type": "markdown",
   "metadata": {},
   "source": [
    "### Defining state and Action"
   ]
  },
  {
   "cell_type": "code",
   "execution_count": 7,
   "metadata": {},
   "outputs": [
    {
     "data": {
      "text/plain": [
       "'right'"
      ]
     },
     "execution_count": 7,
     "metadata": {},
     "output_type": "execute_result"
    }
   ],
   "source": [
    "action = np.random.choice([\"up\", \"down\", \"left\", \"right\"])\n",
    "action"
   ]
  },
  {
   "cell_type": "code",
   "execution_count": 18,
   "metadata": {},
   "outputs": [],
   "source": [
    "S = 25\n",
    "A = 4\n",
    "# A = [\"up\",\"down\",\"left\",\"right\"]"
   ]
  },
  {
   "cell_type": "code",
   "execution_count": 21,
   "metadata": {},
   "outputs": [
    {
     "data": {
      "text/plain": [
       "array([[nan, nan, nan, nan, nan],\n",
       "       [nan, nan, nan, nan, nan],\n",
       "       [nan, nan, nan, nan, nan],\n",
       "       [nan, nan, nan, nan, nan],\n",
       "       [nan, nan, nan, nan, nan]])"
      ]
     },
     "execution_count": 21,
     "metadata": {},
     "output_type": "execute_result"
    }
   ],
   "source": [
    "R  = np.full((5, 5),np.nan)\n",
    "R"
   ]
  },
  {
   "cell_type": "code",
   "execution_count": 26,
   "metadata": {},
   "outputs": [
    {
     "data": {
      "text/plain": [
       "array([[nan, nan, nan, nan, nan],\n",
       "       [nan, nan,  5., nan, -5.],\n",
       "       [-5., nan, nan, nan, nan],\n",
       "       [nan, nan,  5., nan, nan],\n",
       "       [nan, nan, nan, nan, 10.]])"
      ]
     },
     "execution_count": 26,
     "metadata": {},
     "output_type": "execute_result"
    }
   ],
   "source": [
    "R[4,4] = 10\n",
    "R[3,2] = 5\n",
    "R[1,2] = 5\n",
    "R[2,0] = -5\n",
    "R[1,4] = -5\n",
    "R\n"
   ]
  },
  {
   "cell_type": "code",
   "execution_count": 30,
   "metadata": {},
   "outputs": [
    {
     "name": "stdout",
     "output_type": "stream",
     "text": [
      "down\n"
     ]
    },
    {
     "ename": "IndexError",
     "evalue": "only integers, slices (`:`), ellipsis (`...`), numpy.newaxis (`None`) and integer or boolean arrays are valid indices",
     "output_type": "error",
     "traceback": [
      "\u001b[1;31m---------------------------------------------------------------------------\u001b[0m",
      "\u001b[1;31mIndexError\u001b[0m                                Traceback (most recent call last)",
      "Cell \u001b[1;32mIn[30], line 36\u001b[0m\n\u001b[0;32m     34\u001b[0m r \u001b[38;5;241m=\u001b[39m reward(state, action)\n\u001b[0;32m     35\u001b[0m \u001b[38;5;28mprint\u001b[39m(action)\n\u001b[1;32m---> 36\u001b[0m Q[state, action] \u001b[38;5;241m=\u001b[39m (\u001b[38;5;241m1\u001b[39m \u001b[38;5;241m-\u001b[39m alpha) \u001b[38;5;241m*\u001b[39m \u001b[43mQ\u001b[49m\u001b[43m[\u001b[49m\u001b[43mstate\u001b[49m\u001b[43m,\u001b[49m\u001b[43m \u001b[49m\u001b[43maction\u001b[49m\u001b[43m]\u001b[49m \u001b[38;5;241m+\u001b[39m alpha \u001b[38;5;241m*\u001b[39m (r \u001b[38;5;241m+\u001b[39m gamma \u001b[38;5;241m*\u001b[39m np\u001b[38;5;241m.\u001b[39mmax(Q[next_state]))\n\u001b[0;32m     37\u001b[0m \u001b[38;5;28;01mif\u001b[39;00m action \u001b[38;5;241m==\u001b[39m \u001b[38;5;124m\"\u001b[39m\u001b[38;5;124mhome\u001b[39m\u001b[38;5;124m\"\u001b[39m:\n\u001b[0;32m     38\u001b[0m     \u001b[38;5;28;01mbreak\u001b[39;00m  \u001b[38;5;66;03m# Reached the goal state\u001b[39;00m\n",
      "\u001b[1;31mIndexError\u001b[0m: only integers, slices (`:`), ellipsis (`...`), numpy.newaxis (`None`) and integer or boolean arrays are valid indices"
     ]
    }
   ],
   "source": [
    "import numpy as np\n",
    "\n",
    "# Define the grid world (5x5)\n",
    "n_states = 1  # Since the agent's position doesn't matter\n",
    "n_actions = 4  # Up, Down, Left, Right\n",
    "\n",
    "# Initialize Q-values\n",
    "Q = np.zeros((n_states, n_actions))\n",
    "\n",
    "# Define the reward function\n",
    "def reward(state, action):\n",
    "    # Assign rewards based on the state and action\n",
    "    if action == \"dirt\":\n",
    "        return 5\n",
    "    elif action == \"person\":\n",
    "        return -5\n",
    "    elif action == \"home\":\n",
    "        return 10\n",
    "    else:\n",
    "        return -1\n",
    "\n",
    "# Q-learning parameters\n",
    "gamma = 0.9  # Discount factor\n",
    "alpha = 0.1  # Learning rate\n",
    "\n",
    "# Training loop\n",
    "n_episodes = 1000\n",
    "for _ in range(n_episodes):\n",
    "    state = 0  # Start from the initial state (entire grid)\n",
    "    while True:\n",
    "        # Choose an action (e.g., epsilon-greedy policy)\n",
    "        action = np.random.choice([\"up\", \"down\", \"left\", \"right\"])\n",
    "        next_state = 0  # Since the agent's position doesn't matter\n",
    "        r = reward(state, action)\n",
    "        print(action)\n",
    "        Q[state, action] = (1 - alpha) * Q[state, action] + alpha * (r + gamma * np.max(Q[next_state]))\n",
    "        if action == \"home\":\n",
    "            break  # Reached the goal state\n",
    "\n",
    "# # Evaluate the learned policy\n",
    "# def evaluate_policy(Q):\n",
    "#     # Run the agent using the learned Q-values\n",
    "#     # Calculate success rate, average steps, etc.\n",
    "\n",
    "# # Example usage\n",
    "# learned_policy = evaluate_policy(Q)\n",
    "# print(\"Learned policy:\", learned_policy)\n"
   ]
  }
 ],
 "metadata": {
  "kernelspec": {
   "display_name": "Python 3",
   "language": "python",
   "name": "python3"
  },
  "language_info": {
   "codemirror_mode": {
    "name": "ipython",
    "version": 3
   },
   "file_extension": ".py",
   "mimetype": "text/x-python",
   "name": "python",
   "nbconvert_exporter": "python",
   "pygments_lexer": "ipython3",
   "version": "3.11.5"
  }
 },
 "nbformat": 4,
 "nbformat_minor": 2
}
