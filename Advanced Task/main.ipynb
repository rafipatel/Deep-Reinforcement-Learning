{
 "cells": [
  {
   "cell_type": "code",
   "execution_count": 1,
   "metadata": {},
   "outputs": [],
   "source": [
    "from utils import parse_arguments, read_settings, plot_rewards, simulate_notebook\n",
    "import matplotlib.pyplot as plt\n",
    "import gymnasium as gym\n",
    "import torch\n",
    "from tqdm import tqdm\n",
    "from agent import DQNAgent, DoubleDQNAgent"
   ]
  },
  {
   "cell_type": "code",
   "execution_count": 2,
   "metadata": {},
   "outputs": [],
   "source": [
    "device = torch.device('cuda' if torch.cuda.is_available(\n",
    ") else 'mps' if torch.backends.mps.is_available() else 'cpu')"
   ]
  },
  {
   "cell_type": "code",
   "execution_count": 3,
   "metadata": {},
   "outputs": [],
   "source": [
    "def train_dqn(env: gym.Env, agent: DQNAgent, episodes: int):\n",
    "    episode_rewards = []\n",
    "    for episode in tqdm(range(episodes), desc=\"Training: \"):\n",
    "        state, _ = env.reset()\n",
    "        done = False\n",
    "        total_reward = 0\n",
    "        while not done:\n",
    "            action = agent.act(state)\n",
    "            next_state, reward, terminated, truncated, info = env.step(action)\n",
    "            done = terminated or truncated\n",
    "            agent.remember(state, action, next_state, reward, done)\n",
    "            state = next_state\n",
    "            total_reward += reward\n",
    "            agent.replay()\n",
    "\n",
    "        # print(\"Episode: {}/{}, Total Reward: {}, Epsilon: {:.2}\".format(\n",
    "        #     episode+1, episodes, total_reward, agent.epsilon))\n",
    "        episode_rewards.append(total_reward)\n",
    "    return episode_rewards"
   ]
  },
  {
   "cell_type": "code",
   "execution_count": 4,
   "metadata": {},
   "outputs": [
    {
     "name": "stdout",
     "output_type": "stream",
     "text": [
      "device = device(type='mps')\n",
      "agent_settings ={'lr': 0.001, 'gamma': 0.95, 'epsilon': 1.0, 'epsilon_min': 0.01, 'epsilon_decay': 0.995, 'batch_size': 64, 'alpha': '1e-3', 'update_frequency': 10}\n",
      "train_settings = {'episodes': 1000}\n"
     ]
    }
   ],
   "source": [
    "print(f'{device = }')\n",
    "\n",
    "# Read settings from the YAML file\n",
    "settings = read_settings('config.yaml')\n",
    "\n",
    "agent_settings = settings['agent']\n",
    "train_settings = settings['train']\n",
    "print(f'{agent_settings =}')\n",
    "print(f'{train_settings = }')"
   ]
  },
  {
   "cell_type": "code",
   "execution_count": 5,
   "metadata": {},
   "outputs": [],
   "source": [
    "# Environment\n",
    "env = gym.make('CartPole-v1', render_mode='rgb_array')\n",
    "state_size = env.observation_space.shape[0]\n",
    "action_size = env.action_space.n"
   ]
  },
  {
   "cell_type": "code",
   "execution_count": 6,
   "metadata": {},
   "outputs": [
    {
     "ename": "TypeError",
     "evalue": "DQNAgent.__init__() got an unexpected keyword argument 'alpha'",
     "output_type": "error",
     "traceback": [
      "\u001b[0;31m---------------------------------------------------------------------------\u001b[0m",
      "\u001b[0;31mTypeError\u001b[0m                                 Traceback (most recent call last)",
      "Cell \u001b[0;32mIn[6], line 2\u001b[0m\n\u001b[1;32m      1\u001b[0m \u001b[38;5;66;03m# Agent\u001b[39;00m\n\u001b[0;32m----> 2\u001b[0m agent \u001b[38;5;241m=\u001b[39m \u001b[43mDQNAgent\u001b[49m\u001b[43m(\u001b[49m\u001b[43mstate_size\u001b[49m\u001b[43m,\u001b[49m\u001b[43m \u001b[49m\u001b[43maction_size\u001b[49m\u001b[43m,\u001b[49m\u001b[43m \u001b[49m\u001b[38;5;241;43m*\u001b[39;49m\u001b[38;5;241;43m*\u001b[39;49m\u001b[43magent_settings\u001b[49m\u001b[43m)\u001b[49m\n\u001b[1;32m      4\u001b[0m dqn_rewards \u001b[38;5;241m=\u001b[39m train_dqn(env, agent, \u001b[38;5;241m*\u001b[39m\u001b[38;5;241m*\u001b[39mtrain_settings)\n",
      "\u001b[0;31mTypeError\u001b[0m: DQNAgent.__init__() got an unexpected keyword argument 'alpha'"
     ]
    }
   ],
   "source": [
    "# Agent\n",
    "agent = DQNAgent(state_size, action_size, **agent_settings)\n",
    "\n",
    "dqn_rewards = train_dqn(env, agent, **train_settings)"
   ]
  },
  {
   "cell_type": "code",
   "execution_count": null,
   "metadata": {},
   "outputs": [
    {
     "name": "stderr",
     "output_type": "stream",
     "text": [
      "Training: 100%|██████████| 1000/1000 [02:01<00:00,  8.21it/s]\n"
     ]
    }
   ],
   "source": [
    "# Agent\n",
    "d_agent = DoubleDQNAgent(state_size, action_size, **agent_settings)\n",
    "\n",
    "ddqn_rewards = train_dqn(env, d_agent, **train_settings)"
   ]
  },
  {
   "cell_type": "code",
   "execution_count": null,
   "metadata": {},
   "outputs": [],
   "source": [
    "_, ax = plt.subplots(1, 1, figsize=(20, 8))\n",
    "ax.plot(dqn_rewards, label='DQN')\n",
    "ax.plot(ddqn_rewards, label='DoubleDQN')\n",
    "ax.legend()\n",
    "ax.set_ylabel(\"Total Reward\")\n",
    "ax.set_xlabel(\"Episode\")\n",
    "plt.show()"
   ]
  },
  {
   "cell_type": "code",
   "execution_count": null,
   "metadata": {},
   "outputs": [
    {
     "name": "stdout",
     "output_type": "stream",
     "text": [
      "Total reward: 213.0\tSteps: 213\n"
     ]
    },
    {
     "data": {
      "image/png": "[encoded data removed]",
      "text/plain": [
       "<Figure size 1000x800 with 1 Axes>"
      ]
     },
     "metadata": {},
     "output_type": "display_data"
    }
   ],
   "source": [
    "_, ax = plt.subplots(1, 1, figsize=(10, 8))\n",
    "simulate_notebook(agent, env, ax)"
   ]
  },
  {
   "cell_type": "code",
   "execution_count": null,
   "metadata": {},
   "outputs": [
    {
     "data": {
      "image/png": "[encoded data removed]",
      "text/plain": [
       "<Figure size 1000x800 with 1 Axes>"
      ]
     },
     "metadata": {},
     "output_type": "display_data"
    },
    {
     "ename": "",
     "evalue": "",
     "output_type": "error",
     "traceback": [
      "\u001b[1;31mThe Kernel crashed while executing code in the current cell or a previous cell. \n",
      "\u001b[1;31mPlease review the code in the cell(s) to identify a possible cause of the failure. \n",
      "\u001b[1;31mClick <a href='https://aka.ms/vscodeJupyterKernelCrash'>here</a> for more info. \n",
      "\u001b[1;31mView Jupyter <a href='command:jupyter.viewOutput'>log</a> for further details."
     ]
    }
   ],
   "source": [
    "_, ax = plt.subplots(1, 1, figsize=(10, 8))\n",
    "simulate_notebook(d_agent, env, ax)"
   ]
  }
 ],
 "metadata": {
  "kernelspec": {
   "display_name": "venv",
   "language": "python",
   "name": "python3"
  },
  "language_info": {
   "codemirror_mode": {
    "name": "ipython",
    "version": 3
   },
   "file_extension": ".py",
   "mimetype": "text/x-python",
   "name": "python",
   "nbconvert_exporter": "python",
   "pygments_lexer": "ipython3",
   "version": "3.11.5"
  }
 },
 "nbformat": 4,
 "nbformat_minor": 2
}
